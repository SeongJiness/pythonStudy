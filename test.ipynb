{
 "cells": [
  {
   "cell_type": "code",
   "execution_count": null,
   "metadata": {},
   "outputs": [
    {
     "name": "stdout",
     "output_type": "stream",
     "text": [
      "7.6시간 36분\n"
     ]
    }
   ],
   "source": [
    "#셀프 체크 6.1\n",
    "hour = 456 / 60\n",
    "minute = 456 % 60\n",
    "print(str(hour) + \"시간 \" + str(minute) + \"분\")\n",
    "\n",
    "# 파이썬은 자바처럼 숫자또는 부동소수점이 문자열이랑 + 연산이 불가능하다.  그래서 str()로 변환후에 연결하자!!!"
   ]
  },
  {
   "cell_type": "code",
   "execution_count": 12,
   "metadata": {},
   "outputs": [
    {
     "name": "stdout",
     "output_type": "stream",
     "text": [
      "23.9\n",
      "23.9\n",
      "5마일\n",
      "8.04674킬로미터\n",
      "8046.74미터\n"
     ]
    }
   ],
   "source": [
    "#Q6.1\n",
    "f = 75\n",
    "c = (f - 32) / 1.8\n",
    "print(f\"{c:.1f}\")\n",
    "print(round(c, 1))\n",
    "\n",
    "#소수점 이하 출력법 f-string , round\n",
    "\n",
    "#Q6.2\n",
    "mile = 5\n",
    "print(str(5) + \"마일\")\n",
    "km = round(mile / 0.62137 , 5)\n",
    "print(str(km)+ \"킬로미터\")\n",
    "meter = 1000 * km\n",
    "print(str(meter) + \"미터\") "
   ]
  },
  {
   "cell_type": "code",
   "execution_count": null,
   "metadata": {},
   "outputs": [
    {
     "name": "stdout",
     "output_type": "stream",
     "text": [
      "t\n",
      "nhy tWp np\n",
      "Dr_orez\n"
     ]
    }
   ],
   "source": [
    "#셀프 체크 7.4\n",
    "print(\"it's not impossible\"[1:2:1])\n",
    "print(\"Keeping Up With Python\"[-1:-20:-2])\n",
    "secret = \"mai p455w_zero_rD\"\n",
    "print(secret[-1:-8:-1])\n",
    "\n",
    "#주의 [-1:-8] 생략하면 끝이 1이므로 None이 나옴"
   ]
  },
  {
   "cell_type": "code",
   "execution_count": 4,
   "metadata": {},
   "outputs": [
    {
     "name": "stdout",
     "output_type": "stream",
     "text": [
      "Python 4 ever&ever. 짱!\n",
      "PYTHON 4 EVER&ever. 짱!\n",
      "PYTHON 4 EVER&EVER. 짱!\n",
      "python 4 ever&ever. 짱!\n"
     ]
    }
   ],
   "source": [
    "#셀프 체크 7.5\n",
    "a = \"python 4 ever&EVER. 짱!\"\n",
    "print(a.capitalize())\n",
    "print(a.swapcase())\n",
    "print(a.upper())\n",
    "print(a.lower())"
   ]
  },
  {
   "cell_type": "code",
   "execution_count": 6,
   "metadata": {},
   "outputs": [
    {
     "name": "stdout",
     "output_type": "stream",
     "text": [
      "TEN\n",
      "Ace\n"
     ]
    }
   ],
   "source": [
    "#Q7.1\n",
    "string = \"Guten Morgen\"\n",
    "print(string[2:5].upper())\n",
    "\n",
    "#Q7.2\n",
    "string = \"RaceTrack\"\n",
    "print(string[1:4].capitalize())"
   ]
  }
 ],
 "metadata": {
  "kernelspec": {
   "display_name": "Python 3",
   "language": "python",
   "name": "python3"
  },
  "language_info": {
   "codemirror_mode": {
    "name": "ipython",
    "version": 3
   },
   "file_extension": ".py",
   "mimetype": "text/x-python",
   "name": "python",
   "nbconvert_exporter": "python",
   "pygments_lexer": "ipython3",
   "version": "3.12.3"
  }
 },
 "nbformat": 4,
 "nbformat_minor": 2
}
