{
 "cells": [
  {
   "cell_type": "code",
   "execution_count": 2,
   "id": "2f33cd8b",
   "metadata": {},
   "outputs": [
    {
     "name": "stdout",
     "output_type": "stream",
     "text": [
      "3262\n",
      "몫 : 4, 나머지 : 2\n"
     ]
    }
   ],
   "source": [
    "#p.48 1분코딩\n",
    "print(10*18**2+2*11)\n",
    "\n",
    "#p.49 1분코딩\n",
    "share = 14 // 3\n",
    "remain = 14 % 3\n",
    "print(\"몫 : \" + str(share) + \", \" + \"나머지 : \" + str(remain))"
   ]
  },
  {
   "cell_type": "code",
   "execution_count": 3,
   "id": "156958a5",
   "metadata": {},
   "outputs": [
    {
     "name": "stdout",
     "output_type": "stream",
     "text": [
      "==================================================\n",
      "My Program\n",
      "==================================================\n"
     ]
    }
   ],
   "source": [
    "print(\"=\" * 50)\n",
    "print(\"My Program\")\n",
    "print(\"=\" * 50)"
   ]
  },
  {
   "cell_type": "code",
   "execution_count": 4,
   "id": "95bc8b28",
   "metadata": {},
   "outputs": [
    {
     "name": "stdout",
     "output_type": "stream",
     "text": [
      "15\n"
     ]
    }
   ],
   "source": [
    "#p.56 1분코딩\n",
    "a = \"You need python\"\n",
    "print(len(a))"
   ]
  },
  {
   "cell_type": "code",
   "execution_count": null,
   "id": "bef3f38d",
   "metadata": {},
   "outputs": [
    {
     "name": "stdout",
     "output_type": "stream",
     "text": [
      "You need\n"
     ]
    }
   ],
   "source": [
    "a = \"Life is too short, You need Python\"  #문자열은 변경 불가능한 자료형이다.\n",
    "print(a[19:-7])"
   ]
  }
 ],
 "metadata": {
  "kernelspec": {
   "display_name": "Python 3",
   "language": "python",
   "name": "python3"
  },
  "language_info": {
   "codemirror_mode": {
    "name": "ipython",
    "version": 3
   },
   "file_extension": ".py",
   "mimetype": "text/x-python",
   "name": "python",
   "nbconvert_exporter": "python",
   "pygments_lexer": "ipython3",
   "version": "3.12.3"
  }
 },
 "nbformat": 4,
 "nbformat_minor": 5
}
